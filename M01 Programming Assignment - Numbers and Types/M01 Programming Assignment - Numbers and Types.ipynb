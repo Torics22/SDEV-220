{
 "cells": [
  {
   "cell_type": "code",
   "execution_count": 4,
   "id": "e7d1a615",
   "metadata": {},
   "outputs": [
    {
     "data": {
      "text/plain": [
       "3600"
      ]
     },
     "execution_count": 4,
     "metadata": {},
     "output_type": "execute_result"
    }
   ],
   "source": [
    "sec_per_min = 60\n",
    "min_per_hour = 60\n",
    "\n",
    "sec_per_min * min_per_hour"
   ]
  },
  {
   "cell_type": "code",
   "execution_count": 6,
   "id": "050c456b",
   "metadata": {},
   "outputs": [
    {
     "data": {
      "text/plain": [
       "86400"
      ]
     },
     "execution_count": 6,
     "metadata": {},
     "output_type": "execute_result"
    }
   ],
   "source": [
    "sec_per_min = 60\n",
    "min_per_hour = 60\n",
    "\n",
    "sec_per_hour = sec_per_min * min_per_hour\n",
    "\n",
    "sec_per_hour * 24"
   ]
  },
  {
   "cell_type": "code",
   "execution_count": 7,
   "id": "39bf3181",
   "metadata": {},
   "outputs": [
    {
     "data": {
      "text/plain": [
       "24.0"
      ]
     },
     "execution_count": 7,
     "metadata": {},
     "output_type": "execute_result"
    }
   ],
   "source": [
    "sec_per_min = 60\n",
    "min_per_hour = 60\n",
    "\n",
    "sec_per_hour = sec_per_min * min_per_hour\n",
    "\n",
    "sec_per_day = sec_per_hour * 24\n",
    "\n",
    "sec_per_day / sec_per_hour"
   ]
  },
  {
   "cell_type": "code",
   "execution_count": 8,
   "id": "c8f5ccca",
   "metadata": {},
   "outputs": [
    {
     "data": {
      "text/plain": [
       "24"
      ]
     },
     "execution_count": 8,
     "metadata": {},
     "output_type": "execute_result"
    }
   ],
   "source": [
    "sec_per_min = 60\n",
    "min_per_hour = 60\n",
    "\n",
    "sec_per_hour = sec_per_min * min_per_hour\n",
    "\n",
    "sec_per_day = sec_per_hour * 24\n",
    "\n",
    "sec_per_day // sec_per_hour"
   ]
  },
  {
   "cell_type": "code",
   "execution_count": 1,
   "id": "2274daeb",
   "metadata": {},
   "outputs": [
    {
     "name": "stdout",
     "output_type": "stream",
     "text": [
      "Yes the number agreed with the previous calcuations besides the lack of .0.\n"
     ]
    }
   ],
   "source": [
    "print('Yes the number agreed with the previous calcuations besides the lack of .0.')"
   ]
  },
  {
   "cell_type": "code",
   "execution_count": null,
   "id": "c16d356f",
   "metadata": {},
   "outputs": [],
   "source": []
  }
 ],
 "metadata": {
  "kernelspec": {
   "display_name": "Python 3 (ipykernel)",
   "language": "python",
   "name": "python3"
  },
  "language_info": {
   "codemirror_mode": {
    "name": "ipython",
    "version": 3
   },
   "file_extension": ".py",
   "mimetype": "text/x-python",
   "name": "python",
   "nbconvert_exporter": "python",
   "pygments_lexer": "ipython3",
   "version": "3.11.1"
  }
 },
 "nbformat": 4,
 "nbformat_minor": 5
}
