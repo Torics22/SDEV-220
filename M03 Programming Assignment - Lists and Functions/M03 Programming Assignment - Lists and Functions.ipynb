{
 "cells": [
  {
   "cell_type": "code",
   "execution_count": 1,
   "id": "30f4f97f",
   "metadata": {},
   "outputs": [
    {
     "name": "stdout",
     "output_type": "stream",
     "text": [
      "['mozzeralla', 'CINDERELLA', 'salmonella']\n"
     ]
    }
   ],
   "source": [
    "things = ['mozzeralla', 'cinderella', 'salmonella']\n",
    "things[1] = 'CINDERELLA'\n",
    "print(things)"
   ]
  },
  {
   "cell_type": "code",
   "execution_count": 2,
   "id": "3de203fd",
   "metadata": {},
   "outputs": [
    {
     "ename": "SyntaxError",
     "evalue": "invalid syntax (2484157304.py, line 1)",
     "output_type": "error",
     "traceback": [
      "\u001b[1;36m  Cell \u001b[1;32mIn[2], line 1\u001b[1;36m\u001b[0m\n\u001b[1;33m    Did it change the element in the list? Yes\u001b[0m\n\u001b[1;37m        ^\u001b[0m\n\u001b[1;31mSyntaxError\u001b[0m\u001b[1;31m:\u001b[0m invalid syntax\n"
     ]
    }
   ],
   "source": [
    "Did it change the element in the list? Yes"
   ]
  },
  {
   "cell_type": "code",
   "execution_count": 3,
   "id": "33964df1",
   "metadata": {},
   "outputs": [
    {
     "name": "stdout",
     "output_type": "stream",
     "text": [
      "['mozzeralla', 'CINDERELLA']\n"
     ]
    }
   ],
   "source": [
    "things.remove('salmonella')\n",
    "print(things)"
   ]
  },
  {
   "cell_type": "code",
   "execution_count": 4,
   "id": "7a182f38",
   "metadata": {},
   "outputs": [
    {
     "ename": "IndentationError",
     "evalue": "expected an indented block after 'try' statement on line 15 (3666020048.py, line 17)",
     "output_type": "error",
     "traceback": [
      "\u001b[1;36m  Cell \u001b[1;32mIn[4], line 17\u001b[1;36m\u001b[0m\n\u001b[1;33m    except:\u001b[0m\n\u001b[1;37m    ^\u001b[0m\n\u001b[1;31mIndentationError\u001b[0m\u001b[1;31m:\u001b[0m expected an indented block after 'try' statement on line 15\n"
     ]
    }
   ],
   "source": [
    "def good():\n",
    "    ['Harry','Ron','Hermione']\n",
    "numbers = []\n",
    "def get_odds():\n",
    "    for i in range(10):\n",
    "        if(i%2!=0):\n",
    "            numbers.append(i)\n",
    "get_odds()\n",
    "print(numbers[2])\n",
    "def test():\n",
    "    print('start')\n",
    "    func()\n",
    "    print('end')\n",
    "def OopsException():\n",
    "    try:\n",
    "        print('')\n",
    "    except:\n",
    "        print('caught an oops')"
   ]
  },
  {
   "cell_type": "code",
   "execution_count": null,
   "id": "9cbb8a3e",
   "metadata": {},
   "outputs": [],
   "source": []
  }
 ],
 "metadata": {
  "kernelspec": {
   "display_name": "Python 3 (ipykernel)",
   "language": "python",
   "name": "python3"
  },
  "language_info": {
   "codemirror_mode": {
    "name": "ipython",
    "version": 3
   },
   "file_extension": ".py",
   "mimetype": "text/x-python",
   "name": "python",
   "nbconvert_exporter": "python",
   "pygments_lexer": "ipython3",
   "version": "3.11.1"
  }
 },
 "nbformat": 4,
 "nbformat_minor": 5
}
